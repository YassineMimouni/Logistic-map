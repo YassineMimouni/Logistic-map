{
  "cells": [
    {
      "cell_type": "code",
      "execution_count": null,
      "metadata": {
        "collapsed": false
      },
      "outputs": [],
      "source": [
        "%matplotlib inline"
      ]
    },
    {
      "cell_type": "markdown",
      "metadata": {},
      "source": [
        "\nLogistic_module's examples\n============================\n\nIn this setion, you can show some static examples of our package.\n"
      ]
    },
    {
      "cell_type": "markdown",
      "metadata": {},
      "source": [
        "Bifurcation diagram\n------------------------\nThis function show the bifurcation diagram\n\n"
      ]
    },
    {
      "cell_type": "code",
      "execution_count": null,
      "metadata": {
        "collapsed": false
      },
      "outputs": [],
      "source": [
        "from logistic_module.LogisticEquation.Bifurcation import Visualization_bifurcation\nviz = Visualization_bifurcation()\n\nviz.bifurcation_diagram()"
      ]
    },
    {
      "cell_type": "markdown",
      "metadata": {},
      "source": [
        "Bifurcation diagram\n------------------------\nThis function show the bifurcation diagram\n\n"
      ]
    },
    {
      "cell_type": "code",
      "execution_count": null,
      "metadata": {
        "collapsed": false
      },
      "outputs": [],
      "source": [
        "import matplotlib.pyplot as plt\n\nfrom logistic_module.Mandelbrot2D.Mandelbrot2D import Mandelbrot_2D\nZ = Mandelbrot_2D(hauteur=500, largeur=500, max_iteration=100,\n                  xmin=-2, xmax=0.5, ymin=-1.25, ymax=1.25)\n\nfig = plt.figure()\nfig.suptitle(\"Mandelbrot set\")\nim = plt.imshow(Z.Mandelbrotset, cmap='magma')\nplt.colorbar()\nplt.show()"
      ]
    }
  ],
  "metadata": {
    "kernelspec": {
      "display_name": "Python 3",
      "language": "python",
      "name": "python3"
    },
    "language_info": {
      "codemirror_mode": {
        "name": "ipython",
        "version": 3
      },
      "file_extension": ".py",
      "mimetype": "text/x-python",
      "name": "python",
      "nbconvert_exporter": "python",
      "pygments_lexer": "ipython3",
      "version": "3.7.6"
    }
  },
  "nbformat": 4,
  "nbformat_minor": 0
}