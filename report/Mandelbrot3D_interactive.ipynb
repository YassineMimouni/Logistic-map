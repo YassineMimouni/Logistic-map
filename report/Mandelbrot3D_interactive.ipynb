{
 "cells": [
  {
   "cell_type": "code",
   "execution_count": null,
   "metadata": {},
   "outputs": [],
   "source": [
    "import numpy as np  \n",
    "import plotly\n",
    "import plotly.graph_objects as go\n",
    "import warnings\n",
    "import time"
   ]
  },
  {
   "cell_type": "code",
   "execution_count": null,
   "metadata": {},
   "outputs": [],
   "source": [
    "warnings.filterwarnings(\"ignore\")"
   ]
  },
  {
   "cell_type": "code",
   "execution_count": null,
   "metadata": {},
   "outputs": [],
   "source": [
    "class Fig_element():\n",
    "    \n",
    "    \n",
    "    def __init__(self,n,M,L,dx,dy):\n",
    "        self.n = n\n",
    "        self.M = M\n",
    "        self.L = L\n",
    "        self.dx = dx\n",
    "        self.dy = dy\n",
    "        \n",
    "    \n",
    "    def grid(self):\n",
    "        x = np.linspace(-self.L+self.dx,self.L+self.dx,self.M)    \n",
    "        y = np.linspace(-self.L+self.dy,self.L+self.dy,self.M)\n",
    "        X,Y = np.meshgrid(x,y)\n",
    "        return X,Y\n",
    "    \n",
    "    \n",
    "    def mand(self):\n",
    "        X,Y = self.grid()\n",
    "        C = X + 1j*Y   \n",
    "        Z = C\n",
    "        for k in range(1,(self.n)+1):     \n",
    "            ZZ = Z**2 + C\n",
    "            Z = ZZ\n",
    "        W = np.e**(-np.abs(Z)) - 0.625\n",
    "        W[W>0] = W[W>0]*0.0001\n",
    "        return W"
   ]
  },
  {
   "cell_type": "code",
   "execution_count": null,
   "metadata": {
    "scrolled": true
   },
   "outputs": [],
   "source": [
    "n,M,L,dx,dy = 200,200,1.4,-0.6,0\n",
    "\n",
    "p = Fig_element(n,M,L,dx,dy)"
   ]
  },
  {
   "cell_type": "code",
   "execution_count": null,
   "metadata": {},
   "outputs": [],
   "source": [
    "start = time.time()\n",
    "\n",
    "fig = go.Figure(data = [go.Surface(z=p.mand(), x=p.grid()[0], y=p.grid()[1],                                   \n",
    "                                   colorscale = 'Reds', \n",
    "                                   showscale = False,\n",
    "                                   connectgaps = False,\n",
    "                                   hoverinfo = \"none\",\n",
    "                                   contours = dict(x = dict(highlight = False),\n",
    "                                                   y = dict(highlight = False,\n",
    "                                                            show = True,\n",
    "                                                            start = -2,\n",
    "                                                            end = 2,\n",
    "                                                            size = 1,\n",
    "                                                            color = \"yellow\"),\n",
    "                                                   z = dict(highlight = False))), \n",
    "\n",
    "                        go.Surface(z=-p.mand(), x=p.grid()[0], y=p.grid()[1],\n",
    "                                   colorscale = 'Reds',\n",
    "                                   reversescale = True,\n",
    "                                   showscale = False,\n",
    "                                   connectgaps = False,\n",
    "                                   hoverinfo = \"none\",\n",
    "                                   showlegend = False,\n",
    "                                   contours = dict(x = dict(highlight = False),\n",
    "                                                   y = dict(highlight = False,\n",
    "                                                            show = True,\n",
    "                                                            start = -2,\n",
    "                                                            end = 2,\n",
    "                                                            size = 1,\n",
    "                                                            color = \"yellow\"),\n",
    "                                                   z = dict(highlight = False)))],                       \n",
    "                \n",
    "               layout = go.Layout(title='Mandelbrot 3D interactive visualization',\n",
    "                                  width = 600,\n",
    "                                  height = 600,\n",
    "                                  hovermode= 'closest',\n",
    "                                  template = \"plotly_dark\",\n",
    "                                  scene = dict(xaxis = dict(visible = False),\n",
    "                                               yaxis = dict(visible = False),\n",
    "                                               zaxis = dict(visible = False),\n",
    "                                               hovermode = False,\n",
    "                                               camera = dict(eye=dict(x=0, y=-0.8, z=2.5) ))))\n",
    "    \n",
    " \n",
    "fig.show()\n",
    "\n",
    "\n",
    "end = time.time()\n",
    "\n",
    "print(\"Time spent to modelize the Mandelbrot set in 3D:  {0:.3f} s.\".format(end - start))"
   ]
  }
 ],
 "metadata": {
  "kernelspec": {
   "display_name": "Python 3",
   "language": "python",
   "name": "python3"
  },
  "language_info": {
   "codemirror_mode": {
    "name": "ipython",
    "version": 3
   },
   "file_extension": ".py",
   "mimetype": "text/x-python",
   "name": "python",
   "nbconvert_exporter": "python",
   "pygments_lexer": "ipython3",
   "version": "3.7.4"
  }
 },
 "nbformat": 4,
 "nbformat_minor": 2
}
